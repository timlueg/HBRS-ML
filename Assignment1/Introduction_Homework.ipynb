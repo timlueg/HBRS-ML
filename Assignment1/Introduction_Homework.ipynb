{
 "cells": [
  {
   "cell_type": "markdown",
   "metadata": {},
   "source": [
    "## Task 1. (Introduction)\n",
    "Suppose that we have three coloured boxes r (red), b (blue), and g (green).\n",
    "\n",
    "- Box r contains 3 apples, 4 oranges, and 3 limes, \n",
    "- Box b contains 1 apple, 1 orange, and 0 limes, and \n",
    "- Box g contains 3 apples, 3 oranges, and 4 limes. \n",
    "\n",
    "If a box is chosen at random with probabilities p(r) = 0.2, p(b) = 0.2, p(g) = 0.6, and a piece of\n",
    "fruit is removed from the box (with equal probability of selecting any of the items in\n",
    "the box), then what is the probability of selecting an apple? \n",
    "\n",
    "If we observe that the selected fruit is in fact an orange, what is the probability that it came from the green\n",
    "box?"
   ]
  },
  {
   "cell_type": "markdown",
   "metadata": {},
   "source": [
    "## Task 2. (Introduction)\n",
    "Consider a Gaussian distribution $p_x(x)$ over x with mean μ = 6 and\n",
    "standard deviation $\\sigma$ = 1. Plot this distribution.  \n",
    "Next, draw a sample of N = 50000 points from this distribution and plot a histogram of their\n",
    "values, which as expected agrees with the distribution $p_x(x)$.  \n",
    "Now consider a non-linear change of variables from x to y given by  \n",
    "$x=g(y)=ln(y)-ln(1-y)+5$  \n",
    "The inverse of this function is given by  \n",
    "$y=g^{-1}(x)=\\frac{1}{1+exp(-x+5)}$  \n",
    "which is a logistic sigmoid function. Plot this function in the same Figure.  \n",
    "Plot the curve $p_x(g(y))$ that is a transformation of $p_x(x)$ as a function of x $p_x(g(y))$ "
   ]
  },
  {
   "cell_type": "markdown",
   "metadata": {},
   "source": [
    "\n"
   ]
  }
 ],
 "metadata": {
  "kernelspec": {
   "display_name": "Python 3",
   "language": "python",
   "name": "python3"
  },
  "language_info": {
   "codemirror_mode": {
    "name": "ipython",
    "version": 3
   },
   "file_extension": ".py",
   "mimetype": "text/x-python",
   "name": "python",
   "nbconvert_exporter": "python",
   "pygments_lexer": "ipython3",
   "version": "3.7.2"
  }
 },
 "nbformat": 4,
 "nbformat_minor": 2
}
